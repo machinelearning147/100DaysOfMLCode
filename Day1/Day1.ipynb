{
  "nbformat": 4,
  "nbformat_minor": 0,
  "metadata": {
    "colab": {
      "name": "Day1/Day1.ipynb",
      "version": "0.3.2",
      "provenance": [],
      "collapsed_sections": [],
      "include_colab_link": true
    },
    "kernelspec": {
      "name": "python3",
      "display_name": "Python 3"
    },
    "accelerator": "GPU"
  },
  "cells": [
    {
      "cell_type": "markdown",
      "metadata": {
        "id": "view-in-github",
        "colab_type": "text"
      },
      "source": [
        "<a href=\"https://colab.research.google.com/github/machinelearning147/100DaysOfMLCode/blob/master/Day1/Day1.ipynb\" target=\"_parent\"><img src=\"https://colab.research.google.com/assets/colab-badge.svg\" alt=\"Open In Colab\"/></a>"
      ]
    },
    {
      "metadata": {
        "id": "JTfPWBKGdifP",
        "colab_type": "text"
      },
      "cell_type": "markdown",
      "source": [
        "**Basics**\n"
      ]
    },
    {
      "metadata": {
        "id": "MYaTnxYxdYX3",
        "colab_type": "code",
        "colab": {}
      },
      "cell_type": "code",
      "source": [
        "# import required packages\n",
        "\n",
        "import numpy as np\n",
        "import matplotlib.pyplot as plt\n",
        "%matplotlib inline"
      ],
      "execution_count": 0,
      "outputs": []
    },
    {
      "metadata": {
        "id": "O9xWq0wHeFEi",
        "colab_type": "code",
        "colab": {}
      },
      "cell_type": "code",
      "source": [
        "# numpy array [a vector]\n",
        "u = np.array([1,2])"
      ],
      "execution_count": 0,
      "outputs": []
    },
    {
      "metadata": {
        "id": "fFf7AzjxeOK3",
        "colab_type": "code",
        "outputId": "be11080f-e917-41e0-9883-90c240c63219",
        "colab": {
          "base_uri": "https://localhost:8080/",
          "height": 269
        }
      },
      "cell_type": "code",
      "source": [
        "# visualizing the vector on 2-dimentional co-ordinate system\n",
        "x_coords, y_coords = u\n",
        "plt.scatter(x_coords, y_coords, color=[\"r\"])\n",
        "plt.axis([0, 9, 0, 6])\n",
        "plt.grid('on')\n",
        "plt.show()"
      ],
      "execution_count": 0,
      "outputs": [
        {
          "output_type": "display_data",
          "data": {
            "image/png": "[encoded data removed]",
            "text/plain": [
              "<matplotlib.figure.Figure at 0x7f59bcb0add8>"
            ]
          },
          "metadata": {
            "tags": []
          }
        }
      ]
    },
    {
      "metadata": {
        "id": "0QiSJV61kdi0",
        "colab_type": "code",
        "colab": {}
      },
      "cell_type": "code",
      "source": [
        "# function to plot vector\n",
        "def plot_vector2d(vector2d, origin=[0, 0], **options):\n",
        "    \"\"\"\n",
        "    plot a vector as arrow from origin to the given vector2d\n",
        "    Args: vector2d\n",
        "    returns: arrow plot\n",
        "    \"\"\"\n",
        "    return plt.arrow(origin[0], origin[1], vector2d[0], vector2d[1],\n",
        "              head_width=0.2, head_length=0.3, length_includes_head=True,\n",
        "              **options)"
      ],
      "execution_count": 0,
      "outputs": []
    },
    {
      "metadata": {
        "id": "nD7WakkFfvG8",
        "colab_type": "code",
        "outputId": "f8856caf-2645-4e17-f1fb-2875819ae0b1",
        "colab": {
          "base_uri": "https://localhost:8080/",
          "height": 269
        }
      },
      "cell_type": "code",
      "source": [
        "plot_vector2d(u, color=\"b\")\n",
        "plt.scatter(x_coords, y_coords, color=[\"r\"])\n",
        "\n",
        "plt.axis([0, 9, 0, 6])\n",
        "plt.grid('on')\n",
        "plt.show()"
      ],
      "execution_count": 0,
      "outputs": [
        {
          "output_type": "display_data",
          "data": {
            "image/png": "[encoded data removed]",
            "text/plain": [
              "<matplotlib.figure.Figure at 0x7f59ba063978>"
            ]
          },
          "metadata": {
            "tags": []
          }
        }
      ]
    },
    {
      "metadata": {
        "id": "hjMAMJNX78TD",
        "colab_type": "code",
        "outputId": "a510197b-d321-4c21-e303-0cc2863843ab",
        "colab": {
          "base_uri": "https://localhost:8080/",
          "height": 265
        }
      },
      "cell_type": "code",
      "source": [
        "u = np.array([0,2])\n",
        "v = np.array([5,0])\n",
        "\n",
        "plot_vector2d(u, origin=[0,0], color=\"b\")\n",
        "plot_vector2d(v, origin=[0,0], color=\"r\")\n",
        "\n",
        "x1,x2,y1,y2 = -5, 10, -5, 5\n",
        "plt.axis([x1,x2,y1,y2])\n",
        "plt.grid('on')\n",
        "plt.show()"
      ],
      "execution_count": 0,
      "outputs": [
        {
          "output_type": "display_data",
          "data": {
            "image/png": "[encoded data removed]",
            "text/plain": [
              "<matplotlib.figure.Figure at 0x7f59b9abc208>"
            ]
          },
          "metadata": {
            "tags": []
          }
        }
      ]
    },
    {
      "metadata": {
        "id": "xx5AH0gGNjRW",
        "colab_type": "text"
      },
      "cell_type": "markdown",
      "source": [
        "**Rotation of 2-D vectors**"
      ]
    },
    {
      "metadata": {
        "id": "wLDC_QbF_AoD",
        "colab_type": "text"
      },
      "cell_type": "markdown",
      "source": [
        "|cos θ   −sin θ| |x| = |x cos θ − y sin θ| = |x'|\n",
        "\n",
        "|sin θ    cos θ| |y|   |x sin θ + y cos θ|   |y'|"
      ]
    },
    {
      "metadata": {
        "id": "J08Bcbss_DXC",
        "colab_type": "code",
        "colab": {}
      },
      "cell_type": "code",
      "source": [
        "def rotate(th):\n",
        "    \"2-D rotational matrix\"\n",
        "    R = np.array([[np.cos(th), -1*np.sin(th)], [np.sin(th), np.cos(th)]])\n",
        "    return R"
      ],
      "execution_count": 0,
      "outputs": []
    },
    {
      "metadata": {
        "id": "wibbOK90NOY6",
        "colab_type": "text"
      },
      "cell_type": "markdown",
      "source": [
        "**Applying roatation on the vectors**"
      ]
    },
    {
      "metadata": {
        "id": "9QQWaBAl_YG7",
        "colab_type": "code",
        "outputId": "ba9c187b-5cdc-465c-b853-9a462ae5c5af",
        "colab": {
          "base_uri": "https://localhost:8080/",
          "height": 181
        }
      },
      "cell_type": "code",
      "source": [
        "th = np.pi/4\n",
        "print(f'Ratation angle: \\n {np.degrees(th)}')\n",
        "R = rotate(th)\n",
        "print(f'Rotational matrix:\\n {np.round(R)}')\n",
        "uR = (np.dot(u,R))\n",
        "vR = (np.dot(v,R))\n",
        "print(f'Rotated u: \\n {uR}')\n",
        "print(f'Rotated u: \\n {vR}')"
      ],
      "execution_count": 0,
      "outputs": [
        {
          "output_type": "stream",
          "text": [
            "Ratation angle: \n",
            " 45.0\n",
            "Rotational matrix:\n",
            " [[ 1. -1.]\n",
            " [ 1.  1.]]\n",
            "Rotated u: \n",
            " [1.41421356 1.41421356]\n",
            "Rotated u: \n",
            " [ 3.53553391 -3.53553391]\n"
          ],
          "name": "stdout"
        }
      ]
    },
    {
      "metadata": {
        "id": "a6EqFcYnM8-l",
        "colab_type": "text"
      },
      "cell_type": "markdown",
      "source": [
        "**Plotting the actual and roatated vectors**"
      ]
    },
    {
      "metadata": {
        "id": "oumDPJwUF1ts",
        "colab_type": "code",
        "outputId": "49540ade-8984-4687-869d-0a8dfe97eece",
        "colab": {
          "base_uri": "https://localhost:8080/",
          "height": 265
        }
      },
      "cell_type": "code",
      "source": [
        "plot_vector2d(u, origin=[1,1], color=\"b\", alpha=0.3)\n",
        "plot_vector2d(v, origin=[0,0], color=\"r\", alpha=0.3)\n",
        "\n",
        "plot_vector2d(uR, origin=[1,1], color=\"b\", alpha=1)\n",
        "plot_vector2d(vR, origin=[0,0], color=\"r\", alpha=1)\n",
        "\n",
        "x1,x2,y1,y2 = -5, 10, -5, 5\n",
        "plt.axis([x1,x2,y1,y2])\n",
        "plt.grid('on')\n",
        "plt.show()"
      ],
      "execution_count": 0,
      "outputs": [
        {
          "output_type": "display_data",
          "data": {
            "image/png": "[encoded data removed]",
            "text/plain": [
              "<matplotlib.figure.Figure at 0x7f59b9ae6a58>"
            ]
          },
          "metadata": {
            "tags": []
          }
        }
      ]
    },
    {
      "metadata": {
        "id": "2Pf4fOkuQZJf",
        "colab_type": "text"
      },
      "cell_type": "markdown",
      "source": [
        "**Vector Addition**"
      ]
    },
    {
      "metadata": {
        "id": "2QLCeK1xGDOY",
        "colab_type": "code",
        "outputId": "6d22a45a-71e8-49f9-849b-2967596d56a1",
        "colab": {
          "base_uri": "https://localhost:8080/",
          "height": 265
        }
      },
      "cell_type": "code",
      "source": [
        "\n",
        "plot_vector2d(u, color=\"r\")\n",
        "plot_vector2d(v, color=\"b\")\n",
        "plot_vector2d(v, origin=u, color=\"b\", linestyle=\"dotted\")\n",
        "plot_vector2d(u, origin=v, color=\"r\", linestyle=\"dotted\")\n",
        "plot_vector2d(u+v, color=\"g\")\n",
        "plt.axis([-5, 10, -5, 5])\n",
        "\n",
        "plt.grid('on')\n",
        "plt.show()"
      ],
      "execution_count": 0,
      "outputs": [
        {
          "output_type": "display_data",
          "data": {
            "image/png": "[encoded data removed]",
            "text/plain": [
              "<matplotlib.figure.Figure at 0x7f59b9d1d2e8>"
            ]
          },
          "metadata": {
            "tags": []
          }
        }
      ]
    },
    {
      "metadata": {
        "id": "hshixabiPWzI",
        "colab_type": "code",
        "colab": {}
      },
      "cell_type": "code",
      "source": [
        ""
      ],
      "execution_count": 0,
      "outputs": []
    }
  ]
}