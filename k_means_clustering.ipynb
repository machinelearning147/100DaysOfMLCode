{
  "nbformat": 4,
  "nbformat_minor": 0,
  "metadata": {
    "colab": {
      "name": "k-means clustering.ipynb",
      "version": "0.3.2",
      "provenance": [],
      "collapsed_sections": [],
      "include_colab_link": true
    },
    "kernelspec": {
      "name": "python3",
      "display_name": "Python 3"
    },
    "accelerator": "GPU"
  },
  "cells": [
    {
      "cell_type": "markdown",
      "metadata": {
        "id": "view-in-github",
        "colab_type": "text"
      },
      "source": [
        "<a href=\"https://colab.research.google.com/github/machinelearning147/100DaysOfMLCode/blob/master/k_means_clustering.ipynb\" target=\"_parent\"><img src=\"https://colab.research.google.com/assets/colab-badge.svg\" alt=\"Open In Colab\"/></a>"
      ]
    },
    {
      "metadata": {
        "id": "OMoJYG4_iQvY",
        "colab_type": "code",
        "colab": {}
      },
      "cell_type": "code",
      "source": [
        "import numpy as np\n",
        "import matplotlib.pyplot as plt\n",
        "%matplotlib inline"
      ],
      "execution_count": 0,
      "outputs": []
    },
    {
      "metadata": {
        "id": "O_9L_IwghmXI",
        "colab_type": "code",
        "colab": {}
      },
      "cell_type": "code",
      "source": [
        "xy = [[1,1],[0,0],[2,2],[1.5,1.5],[1,1.5],[4.5,4.5],[5,4],[4.5,5],[5,5],[5.5,6]]"
      ],
      "execution_count": 0,
      "outputs": []
    },
    {
      "metadata": {
        "id": "VjolS5VFiFlo",
        "colab_type": "code",
        "outputId": "f0e8bf08-2f5e-415f-baaa-b2a61122d1ba",
        "colab": {
          "base_uri": "https://localhost:8080/",
          "height": 35
        }
      },
      "cell_type": "code",
      "source": [
        "xy = np.array(xy)\n",
        "print(len(xy))"
      ],
      "execution_count": 3,
      "outputs": [
        {
          "output_type": "stream",
          "text": [
            "10\n"
          ],
          "name": "stdout"
        }
      ]
    },
    {
      "metadata": {
        "id": "QNfKccsJLKVe",
        "colab_type": "code",
        "colab": {}
      },
      "cell_type": "code",
      "source": [
        "from sklearn.datasets import make_blobs"
      ],
      "execution_count": 0,
      "outputs": []
    },
    {
      "metadata": {
        "id": "Qxlg8KK0LLmg",
        "colab_type": "code",
        "outputId": "cf9a5832-f056-46c7-88bd-496703db38f0",
        "colab": {
          "base_uri": "https://localhost:8080/",
          "height": 35
        }
      },
      "cell_type": "code",
      "source": [
        "plt.figure(figsize=(80, 80))\n",
        "plt.subplots_adjust(bottom=.05, top=.9, left=.05, right=.95)"
      ],
      "execution_count": 5,
      "outputs": [
        {
          "output_type": "display_data",
          "data": {
            "text/plain": [
              "<matplotlib.figure.Figure at 0x7f579b57e9e8>"
            ]
          },
          "metadata": {
            "tags": []
          }
        }
      ]
    },
    {
      "metadata": {
        "id": "Cd93x81-kntQ",
        "colab_type": "code",
        "colab": {}
      },
      "cell_type": "code",
      "source": [
        "def plot_kmeans(xy, c12):\n",
        "    plt.scatter(xy[:,0], xy[:,1])\n",
        "    plt.scatter(c12[:,0], c12[:,1], marker=\"x\", color='r')\n",
        "    plt.show()\n",
        "    \n",
        "def find_distance(xy,c12):\n",
        "    dist0 = np.linalg.norm(xy-c12[0],axis=1,ord=2)\n",
        "    dist1 = np.linalg.norm(xy-c12[1],axis=1,ord=2)\n",
        "    return (dist0, dist1)\n",
        "\n",
        "def find_groups(D):\n",
        "    S = D[0]<=D[1]\n",
        "    return S.astype('float')\n",
        "\n",
        "\n",
        "def update_centroids(xy, S):\n",
        "    S0 = np.where(S==0)\n",
        "    S1 = np.where(S==1)\n",
        "    c12[0] = (np.sum(xy[S0],axis=0))/len(S0[0])\n",
        "    c12[1] = (np.sum(xy[S1],axis=0))/len(S1[0])\n",
        "    return c12\n"
      ],
      "execution_count": 0,
      "outputs": []
    },
    {
      "metadata": {
        "id": "sh5RfotaLWMR",
        "colab_type": "code",
        "outputId": "9b312994-6e8c-4c4a-996c-862b5dd49bf0",
        "colab": {
          "base_uri": "https://localhost:8080/",
          "height": 295
        }
      },
      "cell_type": "code",
      "source": [
        "plt.subplot(111)\n",
        "plt.title(\"Three blobs\", fontsize='small')\n",
        "X1, Y1 = make_blobs(n_features=2, centers=2)\n",
        "plt.scatter(X1[:, 0], X1[:, 1], marker='o',\n",
        "            s=25, edgecolor='k')\n"
      ],
      "execution_count": 7,
      "outputs": [
        {
          "output_type": "execute_result",
          "data": {
            "text/plain": [
              "<matplotlib.collections.PathCollection at 0x7f579b148278>"
            ]
          },
          "metadata": {
            "tags": []
          },
          "execution_count": 7
        },
        {
          "output_type": "display_data",
          "data": {
            "image/png": "[encoded data removed]",
            "text/plain": [
              "<matplotlib.figure.Figure at 0x7f579b59bf28>"
            ]
          },
          "metadata": {
            "tags": []
          }
        }
      ]
    },
    {
      "metadata": {
        "id": "Xn29h4XcLWPj",
        "colab_type": "code",
        "colab": {}
      },
      "cell_type": "code",
      "source": [
        "xy = X1"
      ],
      "execution_count": 0,
      "outputs": []
    },
    {
      "metadata": {
        "id": "zoYk5sMCiIw8",
        "colab_type": "code",
        "outputId": "59f469b4-b9fe-4fac-acc7-5f3635fe25fd",
        "colab": {
          "base_uri": "https://localhost:8080/",
          "height": 284
        }
      },
      "cell_type": "code",
      "source": [
        "plt.scatter(xy[:,0], xy[:,1])"
      ],
      "execution_count": 9,
      "outputs": [
        {
          "output_type": "execute_result",
          "data": {
            "text/plain": [
              "<matplotlib.collections.PathCollection at 0x7f579885e908>"
            ]
          },
          "metadata": {
            "tags": []
          },
          "execution_count": 9
        },
        {
          "output_type": "display_data",
          "data": {
            "image/png": "[encoded data removed]",
            "text/plain": [
              "<matplotlib.figure.Figure at 0x7f579b116588>"
            ]
          },
          "metadata": {
            "tags": []
          }
        }
      ]
    },
    {
      "metadata": {
        "id": "jpoUZWKZirwq",
        "colab_type": "code",
        "colab": {}
      },
      "cell_type": "code",
      "source": [
        "c12 = np.array([[0.1,0.1],[0.3,0.4]])"
      ],
      "execution_count": 0,
      "outputs": []
    },
    {
      "metadata": {
        "id": "1cN6AMdUT446",
        "colab_type": "code",
        "outputId": "ea20d858-68af-4b41-fb32-47e138266e08",
        "colab": {
          "base_uri": "https://localhost:8080/",
          "height": 1835
        }
      },
      "cell_type": "code",
      "source": [
        "xy"
      ],
      "execution_count": 11,
      "outputs": [
        {
          "output_type": "execute_result",
          "data": {
            "text/plain": [
              "array([[-5.98552153,  1.10083778],\n",
              "       [ 6.15039215,  8.90953492],\n",
              "       [ 5.35665914,  9.0910911 ],\n",
              "       [ 4.6042203 ,  8.91352351],\n",
              "       [ 4.53175404, 10.59751617],\n",
              "       [-4.33433448,  1.9429219 ],\n",
              "       [ 4.45962568,  7.70591648],\n",
              "       [ 4.12910695,  9.37129784],\n",
              "       [ 4.45053566,  9.54600667],\n",
              "       [ 2.85530716,  8.31066207],\n",
              "       [-3.63825247,  2.24387085],\n",
              "       [-5.14941688,  1.19500984],\n",
              "       [-2.9822534 ,  0.15111023],\n",
              "       [-4.60613923,  2.18337533],\n",
              "       [-5.22103376,  2.85677731],\n",
              "       [ 5.50289441, 10.05942164],\n",
              "       [ 4.54712127,  9.55950665],\n",
              "       [-5.06868523,  3.85904361],\n",
              "       [-4.56534422,  2.01953067],\n",
              "       [-4.86138034,  1.66443329],\n",
              "       [ 3.56282222,  9.94687024],\n",
              "       [ 4.83895483,  9.38991621],\n",
              "       [-4.47296449,  0.04569408],\n",
              "       [-6.03396241,  1.00672275],\n",
              "       [-4.7043615 ,  1.37025107],\n",
              "       [ 5.91271306,  7.90647646],\n",
              "       [ 4.36116331,  8.07381589],\n",
              "       [ 7.16424637,  8.94847638],\n",
              "       [ 6.65257377,  8.16541789],\n",
              "       [ 7.41335119,  7.29020561],\n",
              "       [-5.99293167, -0.7143299 ],\n",
              "       [-5.98462669,  2.64272068],\n",
              "       [-3.64713185,  3.09579813],\n",
              "       [-4.03826746,  1.4183213 ],\n",
              "       [-4.49759756,  1.53368305],\n",
              "       [-3.9083969 ,  2.27754467],\n",
              "       [ 7.31120537,  8.60962912],\n",
              "       [ 5.63167547,  9.78482006],\n",
              "       [-3.54029157,  0.77806601],\n",
              "       [ 4.78023149,  9.14341112],\n",
              "       [ 6.26072749,  8.67388592],\n",
              "       [ 6.53184304,  8.11899944],\n",
              "       [ 5.25750631,  7.41303217],\n",
              "       [ 6.59412703,  9.03235156],\n",
              "       [ 4.39212436,  7.74862078],\n",
              "       [-3.18515656,  2.13374273],\n",
              "       [-5.08676032,  3.22079237],\n",
              "       [-5.64525102,  1.55331984],\n",
              "       [-4.99869331,  0.96259152],\n",
              "       [-5.77992368,  2.8741915 ],\n",
              "       [ 5.32776006,  8.75831674],\n",
              "       [-4.09242291,  2.84999526],\n",
              "       [-4.18811361,  2.27307789],\n",
              "       [ 5.82448288,  8.36221744],\n",
              "       [ 5.59733875,  9.11301418],\n",
              "       [-4.68872483,  0.98874539],\n",
              "       [ 4.65148858,  9.30311004],\n",
              "       [ 5.2564886 ,  7.49779862],\n",
              "       [ 5.64800084,  9.63463326],\n",
              "       [ 5.15568613, 10.18866991],\n",
              "       [-5.25668489,  2.14748686],\n",
              "       [ 6.38837256,  7.83554381],\n",
              "       [ 7.06379343, 10.71927195],\n",
              "       [-4.70780818,  2.76192369],\n",
              "       [ 6.585827  ,  8.6395715 ],\n",
              "       [-4.57492718,  2.77064404],\n",
              "       [-4.59084892,  1.35769311],\n",
              "       [-6.21861938,  0.69743312],\n",
              "       [-3.33176226,  1.02641479],\n",
              "       [-5.13774495,  2.01284055],\n",
              "       [ 5.21390084,  8.55028039],\n",
              "       [ 7.20152797, 10.48149493],\n",
              "       [-5.73672611,  2.99584402],\n",
              "       [ 7.19524756, 10.08922852],\n",
              "       [-3.71832086,  1.60698633],\n",
              "       [-3.14264371,  2.63317088],\n",
              "       [-3.765537  , -1.00149139],\n",
              "       [-5.58844091,  2.27352254],\n",
              "       [-3.68910326,  2.59570052],\n",
              "       [ 4.90527853,  9.51859501],\n",
              "       [-5.79278445,  1.63470408],\n",
              "       [-5.82961177,  0.15667849],\n",
              "       [ 7.18617845,  7.92999582],\n",
              "       [-4.8521674 ,  1.73945939],\n",
              "       [ 5.88408126,  9.50084489],\n",
              "       [ 6.42359373, 10.42418634],\n",
              "       [ 4.49049826,  7.47774918],\n",
              "       [ 5.89953152,  8.34106368],\n",
              "       [-5.22005168,  1.2922353 ],\n",
              "       [-4.29100622,  1.33900177],\n",
              "       [ 3.30252075, 10.21755089],\n",
              "       [-3.85326611,  0.8383688 ],\n",
              "       [-4.73663221,  0.47313076],\n",
              "       [ 5.02064176,  8.53536357],\n",
              "       [ 3.10776831,  9.09636456],\n",
              "       [-4.86158041, -0.10908537],\n",
              "       [ 3.52495096,  8.05238334],\n",
              "       [ 6.15697584,  8.47342656],\n",
              "       [ 5.45218697,  9.12043298],\n",
              "       [-5.40340294,  0.19698647]])"
            ]
          },
          "metadata": {
            "tags": []
          },
          "execution_count": 11
        }
      ]
    },
    {
      "metadata": {
        "id": "N7zmu3WLyRKc",
        "colab_type": "code",
        "outputId": "f73b6ca7-7876-4559-a3f3-85be7833b40a",
        "colab": {
          "base_uri": "https://localhost:8080/",
          "height": 265
        }
      },
      "cell_type": "code",
      "source": [
        "plot_kmeans(xy, c12)"
      ],
      "execution_count": 12,
      "outputs": [
        {
          "output_type": "display_data",
          "data": {
            "image/png": "[encoded data removed]",
            "text/plain": [
              "<matplotlib.figure.Figure at 0x7f579b131828>"
            ]
          },
          "metadata": {
            "tags": []
          }
        }
      ]
    },
    {
      "metadata": {
        "id": "jFwTaJ5pKtpG",
        "colab_type": "code",
        "colab": {
          "base_uri": "https://localhost:8080/",
          "height": 54
        },
        "outputId": "8d534986-32fe-4d13-92df-6651add886c2"
      },
      "cell_type": "code",
      "source": [
        "print(min(min(xy[0]), min(xy[1])))\n",
        "print(max(max(xy[0]), max(xy[1])))\n",
        "\n",
        "min_v = min(min(xy[0]), min(xy[1]))\n",
        "max_v = max(max(xy[0]), max(xy[1]))"
      ],
      "execution_count": 13,
      "outputs": [
        {
          "output_type": "stream",
          "text": [
            "-5.985521525420311\n",
            "8.909534919888202\n"
          ],
          "name": "stdout"
        }
      ]
    },
    {
      "metadata": {
        "id": "TkZjsNOKuV6p",
        "colab_type": "code",
        "colab": {}
      },
      "cell_type": "code",
      "source": [
        "from collections import defaultdict"
      ],
      "execution_count": 0,
      "outputs": []
    },
    {
      "metadata": {
        "id": "ltW0a6rIubzZ",
        "colab_type": "code",
        "colab": {}
      },
      "cell_type": "code",
      "source": [
        "C = defaultdict(list)"
      ],
      "execution_count": 0,
      "outputs": []
    },
    {
      "metadata": {
        "id": "kPiAkSZk2foM",
        "colab_type": "code",
        "outputId": "35e29cec-9114-4aca-a6a8-596d0fcef9fa",
        "colab": {
          "base_uri": "https://localhost:8080/",
          "height": 10883
        }
      },
      "cell_type": "code",
      "source": [
        "for i in range(10):\n",
        "    D = find_distance(xy,c12)\n",
        "    G = find_groups(D)\n",
        "    c12 = update_centroids(xy, G)\n",
        "    print(c12)\n",
        "    C[str(i)] = c12\n",
        "    print(D,G,c12)\n",
        "    plot_kmeans(xy, c12)"
      ],
      "execution_count": 16,
      "outputs": [
        {
          "output_type": "stream",
          "text": [
            "[[ 4.90299137  8.59923635]\n",
            " [-4.75189681  1.51871224]]\n",
            "(array([ 6.16727237, 10.68714886, 10.41499806,  9.89778749, 11.39466058,\n",
            "        4.80204991,  8.76677259, 10.10893993, 10.39972127,  8.66064023,\n",
            "        4.3093751 ,  5.36240843,  3.08267712,  5.14666875,  5.99276409,\n",
            "       11.3305493 , 10.45271035,  6.39106532,  5.04480274,  5.20218669,\n",
            "       10.43800706, 10.42881757,  4.57328693,  6.20061618,  4.96944938,\n",
            "        9.7328674 ,  9.04097631, 11.32250463, 10.39168845, 10.25593303,\n",
            "        6.14710904,  6.59455156,  4.79747887,  4.34318185,  4.81594751,\n",
            "        4.56168242, 11.15415934, 11.1532584 ,  3.70290375, 10.18272319,\n",
            "       10.55774991, 10.27973526,  8.9487603 , 11.04357688,  8.7706175 ,\n",
            "        3.863724  ,  6.05324935,  5.92621699,  5.17114471,  6.50151066,\n",
            "       10.11414475,  5.01386914,  4.80730546, 10.05156412, 10.55723249,\n",
            "        4.87049831, 10.26709709,  9.01758278, 11.03129842, 11.28455683,\n",
            "        5.73465566,  9.96906553, 12.69895096,  5.49553066, 10.72334991,\n",
            "        5.383984  ,  4.85652711,  6.34680055,  3.5546078 ,  5.57610358,\n",
            "        9.87720712, 12.57804184,  6.51561849, 12.25264152,  4.10494604,\n",
            "        4.11481384,  4.01941036,  6.08954516,  4.53716041, 10.57358188,\n",
            "        6.08935342,  5.92988264, 10.56043368,  5.21649203, 11.03772986,\n",
            "       12.10688486,  8.58531641, 10.07718693,  5.4520065 ,  4.56246216,\n",
            "       10.61230301,  4.0216292 ,  4.85100378,  9.76565788,  9.48584448,\n",
            "        4.96598397,  8.65856165, 10.33446799, 10.48876144,  5.50425747]), array([ 6.32447266, 10.32662931, 10.05509156,  9.53972719, 11.04070099,\n",
            "        4.88443078,  8.40707449,  9.75429367, 10.04372362,  8.31313233,\n",
            "        4.3485276 ,  5.50710314,  3.29167639,  5.22021357,  6.04297679,\n",
            "       10.97153301, 10.0962667 ,  6.38652987,  5.12781181,  5.314004  ,\n",
            "       10.0890406 , 10.07078469,  4.78609681,  6.36295468,  5.0975505 ,\n",
            "        9.37281904,  8.68219429, 10.96331732, 10.03279166,  9.90326706,\n",
            "        6.39083094,  6.67280515,  4.77987211,  4.45618029,  4.92972409,\n",
            "        4.60822943, 10.79606461, 10.79359119,  3.85885646,  9.82444463,\n",
            "       10.19742421,  9.92062599,  8.58833447, 10.68332947,  8.41116574,\n",
            "        3.89258014,  6.0806296 ,  6.05608424,  5.32847633,  6.56407613,\n",
            "        9.75396483,  5.02949856,  4.86328947,  9.69106896, 10.19698063,\n",
            "        5.02334515,  9.90963275,  8.65710832, 10.67143685, 10.92683607,\n",
            "        5.82498561,  9.61018169, 12.3384065 ,  5.53686069, 10.36350132,\n",
            "        5.42078114,  4.98373146,  6.52540153,  3.68538907,  5.671889  ,\n",
            "        9.51701066, 12.21751319,  6.5711847 , 11.89224908,  4.19567855,\n",
            "        4.10351653,  4.300322  ,  6.17930604,  4.55346523, 10.21554528,\n",
            "        6.21663224,  6.13443932, 10.20393505,  5.3234369 , 10.67742203,\n",
            "       11.74660427,  8.22525435,  9.71675077,  5.59169512,  4.68604977,\n",
            "       10.26642277,  4.1763365 ,  5.0371631 ,  9.40577477,  9.13839808,\n",
            "        5.18662513,  8.30417241,  9.9741858 , 10.12872065,  5.70701494])) [1. 0. 0. 0. 0. 1. 0. 0. 0. 0. 1. 1. 1. 1. 1. 0. 0. 0. 1. 1. 0. 0. 1. 1.\n",
            " 1. 0. 0. 0. 0. 0. 1. 1. 0. 1. 1. 1. 0. 0. 1. 0. 0. 0. 0. 0. 0. 1. 1. 1.\n",
            " 1. 1. 0. 1. 1. 0. 0. 1. 0. 0. 0. 0. 1. 0. 0. 1. 0. 1. 1. 1. 1. 1. 0. 0.\n",
            " 1. 0. 1. 0. 1. 1. 1. 0. 1. 1. 0. 1. 0. 0. 0. 0. 1. 1. 0. 1. 1. 0. 0. 1.\n",
            " 0. 0. 0. 1.] [[ 4.90299137  8.59923635]\n",
            " [-4.75189681  1.51871224]]\n"
          ],
          "name": "stdout"
        },
        {
          "output_type": "display_data",
          "data": {
            "image/png": "[encoded data removed]",
            "text/plain": [
              "<matplotlib.figure.Figure at 0x7f57988b5ba8>"
            ]
          },
          "metadata": {
            "tags": []
          }
        },
        {
          "output_type": "stream",
          "text": [
            "[[-4.70395221  1.61934976]\n",
            " [ 5.43434007  8.92343028]]\n",
            "(array([13.22065408,  1.28541585,  0.66913043,  0.43363645,  2.03247126,\n",
            "       11.385724  ,  0.9972931 ,  1.09314959,  1.04932845,  2.06791822,\n",
            "       10.64629124, 12.48493019, 11.55629352, 11.47113061, 11.63923196,\n",
            "        1.57861481,  1.0240911 , 11.04100365, 11.53004362, 11.97641217,\n",
            "        1.90057109,  0.79326875, 12.69139999, 13.31402347, 12.02328812,\n",
            "        1.22452201,  0.75474785,  2.28806529,  1.80256401,  2.83116017,\n",
            "       14.33400346, 12.41049177, 10.16820729, 11.46785291, 11.75980934,\n",
            "       10.84455389,  2.40823642,  1.3916139 , 11.50911519,  0.55784959,\n",
            "        1.35978672,  1.69817115,  1.23804733,  1.74571722,  0.99223584,\n",
            "       10.35474504, 11.34560702, 12.68504463, 12.50446735, 12.12026454,\n",
            "        0.45358021, 10.67573189, 11.07557992,  0.95148545,  0.86376266,\n",
            "       12.24420648,  0.7474569 ,  1.15677369,  1.27557276,  1.60939544,\n",
            "       12.03511917,  1.67020465,  3.02714658, 11.24462925,  1.68331895,\n",
            "       11.1266989 , 11.94039162, 13.64289999, 11.18743911, 12.00820534,\n",
            "        0.31474019,  2.97088671, 12.02504028,  2.73395594, 11.1003867 ,\n",
            "       10.01629578, 12.93512109, 12.25091044, 10.48172375,  0.9193615 ,\n",
            "       12.76339807, 13.65523905,  2.37924906, 11.92558857,  1.33245462,\n",
            "        2.37543132,  1.19494102,  1.02943935, 12.48472126, 11.71497323,\n",
            "        2.2760598 , 11.70056025, 12.6077728 ,  0.13387063,  1.86278348,\n",
            "       13.08364357,  1.48258005,  1.26027979,  0.7571405 , 13.29735187]), array([ 1.30247803, 13.17133875, 12.63027414, 11.92560946, 12.98502421,\n",
            "        0.59524124, 11.09655996, 11.85475973, 12.21156088, 10.19804563,\n",
            "        1.32893142,  0.51264554,  2.23650912,  0.68045741,  1.4179237 ,\n",
            "       13.34557829, 12.29333608,  2.36167437,  0.53443518,  0.18226702,\n",
            "       11.83927362, 12.40726751,  1.49919503,  1.38051637,  0.15588561,\n",
            "       12.43130867, 11.22574044, 14.04264446, 13.20002444, 13.4648949 ,\n",
            "        2.55472987,  1.66823797,  1.92554031,  0.72065608,  0.25473954,\n",
            "        1.1346007 , 13.99283875, 13.27204248,  1.42005074, 12.20645333,\n",
            "       13.13295109, 13.07235924, 11.61598718, 13.60834424, 11.06457787,\n",
            "        1.68313323,  1.73470756,  0.8940243 ,  0.60842318,  1.70122405,\n",
            "       12.41013117,  1.48567167,  0.94176379, 12.5973557 , 12.83667007,\n",
            "        0.53371862, 12.20739554, 11.65835548, 13.19189316, 13.16542311,\n",
            "        0.80633029, 12.80655936, 14.97534089,  1.24399298, 13.38845091,\n",
            "        1.2643779 ,  0.22773577,  1.68100402,  1.50304321,  0.62693029,\n",
            "       12.19672388, 14.94040955,  1.77533294, 14.70333321,  1.03733869,\n",
            "        1.95747633,  2.70635031,  1.12674071,  1.51308753, 12.54030142,\n",
            "        1.0473305 ,  1.73683778, 13.55072684,  0.24245308, 13.29806268,\n",
            "       14.28982356, 10.9969081 , 12.64900804,  0.52005845,  0.49468777,\n",
            "       11.85510169,  1.12712214,  1.0456929 , 12.03062367, 10.91765316,\n",
            "        1.63148875, 10.54490716, 12.93721584, 12.72436576,  1.47357363])) [0. 1. 1. 1. 1. 0. 1. 1. 1. 1. 0. 0. 0. 0. 0. 1. 1. 0. 0. 0. 1. 1. 0. 0.\n",
            " 0. 1. 1. 1. 1. 1. 0. 0. 0. 0. 0. 0. 1. 1. 0. 1. 1. 1. 1. 1. 1. 0. 0. 0.\n",
            " 0. 0. 1. 0. 0. 1. 1. 0. 1. 1. 1. 1. 0. 1. 1. 0. 1. 0. 0. 0. 0. 0. 1. 1.\n",
            " 0. 1. 0. 0. 0. 0. 0. 1. 0. 0. 1. 0. 1. 1. 1. 1. 0. 0. 1. 0. 0. 1. 1. 0.\n",
            " 1. 1. 1. 0.] [[-4.70395221  1.61934976]\n",
            " [ 5.43434007  8.92343028]]\n"
          ],
          "name": "stdout"
        },
        {
          "output_type": "display_data",
          "data": {
            "image/png": "[encoded data removed]",
            "text/plain": [
              "<matplotlib.figure.Figure at 0x7f5798831518>"
            ]
          },
          "metadata": {
            "tags": []
          }
        },
        {
          "output_type": "stream",
          "text": [
            "[[ 5.43434007  8.92343028]\n",
            " [-4.70395221  1.61934976]]\n",
            "(array([ 1.38248854, 13.07530463, 12.53167265, 11.82569432, 12.88044029,\n",
            "        0.49123945, 11.00079335, 11.75226077, 12.10935745, 10.09534857,\n",
            "        1.23520951,  0.61522608,  2.26273598,  0.57244408,  1.34111904,\n",
            "       13.2444151 , 12.19132692,  2.26919782,  0.42350553,  0.16375634,\n",
            "       11.73401708, 12.30645269,  1.590518  ,  1.46432202,  0.24909902,\n",
            "       12.33862001, 11.1281828 , 13.94884349, 13.1080773 , 13.37862653,\n",
            "        2.66599489,  1.63933375,  1.81570071,  0.69537661,  0.22343014,\n",
            "        1.03253513, 13.90064809, 13.17194385,  1.43591938, 12.10624797,\n",
            "       13.03804746, 12.9803136 , 11.52377593, 13.51292679, 10.96843526,\n",
            "        1.60353994,  1.64656019,  0.94361189,  0.71986367,  1.65297985,\n",
            "       12.31259926,  1.37421121,  0.83273642, 12.50256814, 12.73858713,\n",
            "        0.6307882 , 12.10638032, 11.56574867, 13.09227641, 13.06314343,\n",
            "        0.76448821, 12.71537406, 14.87576624,  1.14258044, 13.29445854,\n",
            "        1.15850161,  0.28505536,  1.77317425,  1.49481676,  0.58567154,\n",
            "       12.09965324, 14.84176794,  1.72085978, 14.60581396,  0.9857089 ,\n",
            "        1.86159005,  2.78378007,  1.10011922,  1.40825396, 12.43926811,\n",
            "        1.08894049,  1.84567513, 13.46103491,  0.19077229, 13.19940977,\n",
            "       14.18969435, 10.90223662, 12.55449343,  0.61103398,  0.49911861,\n",
            "       11.74873066,  1.15481518,  1.14668477, 11.93310416, 10.81335877,\n",
            "        1.73560785, 10.44503559, 12.84282395, 12.62590245,  1.585039  ]), array([13.84218886,  0.71618689,  0.18478225,  0.83017889,  1.9019004 ,\n",
            "       12.00643576,  1.5596179 ,  1.37993436,  1.1642476 ,  2.65082924,\n",
            "       11.26625269, 13.10512853, 12.15699982, 12.0929552 , 12.26137307,\n",
            "        1.13805802,  1.09167319, 11.66025527, 12.15144089, 12.59741625,\n",
            "        2.13307488,  0.7563681 , 13.30296522, 13.93543038, 12.64293422,\n",
            "        1.12384865,  1.36877792,  1.7300876 ,  1.43480874,  2.56591267,\n",
            "       14.94887824, 13.03227206, 10.79047862, 12.08540252, 12.37948905,\n",
            "       11.46536217,  1.90291737,  0.88370448, 12.11985859,  0.6901084 ,\n",
            "        0.86324304,  1.36074308,  1.52071451,  1.1648904 ,  1.57047476,\n",
            "       10.97249194, 11.96718984, 13.30698564, 13.1233814 , 12.74178171,\n",
            "        0.19652425, 11.29804522, 11.69695694,  0.68349928,  0.25002125,\n",
            "       12.86217973,  0.87006504,  1.43668256,  0.74260394,  1.2955614 ,\n",
            "       12.65746515,  1.44695369,  2.42490526, 11.86706933,  1.18595866,\n",
            "       11.74913654, 12.55964941, 14.26388774, 11.79861872, 12.63032985,\n",
            "        0.43339854,  2.35595385, 12.64630375,  2.11184296, 11.71757458,\n",
            "       10.63635342, 13.53298964, 12.87334353, 11.10303482,  0.79632102,\n",
            "       13.38558384, 14.2734911 ,  2.01391403, 12.54677942,  0.73189805,\n",
            "        1.79746809,  1.72650839,  0.74535491, 13.10538822, 12.33312273,\n",
            "        2.49387285, 12.31372599, 13.22332179,  0.56722312,  2.33299002,\n",
            "       13.69643448,  2.09868758,  0.85129654,  0.19780945, 13.91429104])) [1. 0. 0. 0. 0. 1. 0. 0. 0. 0. 1. 1. 1. 1. 1. 0. 0. 1. 1. 1. 0. 0. 1. 1.\n",
            " 1. 0. 0. 0. 0. 0. 1. 1. 1. 1. 1. 1. 0. 0. 1. 0. 0. 0. 0. 0. 0. 1. 1. 1.\n",
            " 1. 1. 0. 1. 1. 0. 0. 1. 0. 0. 0. 0. 1. 0. 0. 1. 0. 1. 1. 1. 1. 1. 0. 0.\n",
            " 1. 0. 1. 1. 1. 1. 1. 0. 1. 1. 0. 1. 0. 0. 0. 0. 1. 1. 0. 1. 1. 0. 0. 1.\n",
            " 0. 0. 0. 1.] [[ 5.43434007  8.92343028]\n",
            " [-4.70395221  1.61934976]]\n"
          ],
          "name": "stdout"
        },
        {
          "output_type": "display_data",
          "data": {
            "image/png": "[encoded data removed]",
            "text/plain": [
              "<matplotlib.figure.Figure at 0x7f5798795390>"
            ]
          },
          "metadata": {
            "tags": []
          }
        },
        {
          "output_type": "stream",
          "text": [
            "[[-4.70395221  1.61934976]\n",
            " [ 5.43434007  8.92343028]]\n",
            "(array([13.84218886,  0.71618689,  0.18478225,  0.83017889,  1.9019004 ,\n",
            "       12.00643576,  1.5596179 ,  1.37993436,  1.1642476 ,  2.65082924,\n",
            "       11.26625269, 13.10512853, 12.15699982, 12.0929552 , 12.26137307,\n",
            "        1.13805802,  1.09167319, 11.66025527, 12.15144089, 12.59741625,\n",
            "        2.13307488,  0.7563681 , 13.30296522, 13.93543038, 12.64293422,\n",
            "        1.12384865,  1.36877792,  1.7300876 ,  1.43480874,  2.56591267,\n",
            "       14.94887824, 13.03227206, 10.79047862, 12.08540252, 12.37948905,\n",
            "       11.46536217,  1.90291737,  0.88370448, 12.11985859,  0.6901084 ,\n",
            "        0.86324304,  1.36074308,  1.52071451,  1.1648904 ,  1.57047476,\n",
            "       10.97249194, 11.96718984, 13.30698564, 13.1233814 , 12.74178171,\n",
            "        0.19652425, 11.29804522, 11.69695694,  0.68349928,  0.25002125,\n",
            "       12.86217973,  0.87006504,  1.43668256,  0.74260394,  1.2955614 ,\n",
            "       12.65746515,  1.44695369,  2.42490526, 11.86706933,  1.18595866,\n",
            "       11.74913654, 12.55964941, 14.26388774, 11.79861872, 12.63032985,\n",
            "        0.43339854,  2.35595385, 12.64630375,  2.11184296, 11.71757458,\n",
            "       10.63635342, 13.53298964, 12.87334353, 11.10303482,  0.79632102,\n",
            "       13.38558384, 14.2734911 ,  2.01391403, 12.54677942,  0.73189805,\n",
            "        1.79746809,  1.72650839,  0.74535491, 13.10538822, 12.33312273,\n",
            "        2.49387285, 12.31372599, 13.22332179,  0.56722312,  2.33299002,\n",
            "       13.69643448,  2.09868758,  0.85129654,  0.19780945, 13.91429104]), array([ 1.38248854, 13.07530463, 12.53167265, 11.82569432, 12.88044029,\n",
            "        0.49123945, 11.00079335, 11.75226077, 12.10935745, 10.09534857,\n",
            "        1.23520951,  0.61522608,  2.26273598,  0.57244408,  1.34111904,\n",
            "       13.2444151 , 12.19132692,  2.26919782,  0.42350553,  0.16375634,\n",
            "       11.73401708, 12.30645269,  1.590518  ,  1.46432202,  0.24909902,\n",
            "       12.33862001, 11.1281828 , 13.94884349, 13.1080773 , 13.37862653,\n",
            "        2.66599489,  1.63933375,  1.81570071,  0.69537661,  0.22343014,\n",
            "        1.03253513, 13.90064809, 13.17194385,  1.43591938, 12.10624797,\n",
            "       13.03804746, 12.9803136 , 11.52377593, 13.51292679, 10.96843526,\n",
            "        1.60353994,  1.64656019,  0.94361189,  0.71986367,  1.65297985,\n",
            "       12.31259926,  1.37421121,  0.83273642, 12.50256814, 12.73858713,\n",
            "        0.6307882 , 12.10638032, 11.56574867, 13.09227641, 13.06314343,\n",
            "        0.76448821, 12.71537406, 14.87576624,  1.14258044, 13.29445854,\n",
            "        1.15850161,  0.28505536,  1.77317425,  1.49481676,  0.58567154,\n",
            "       12.09965324, 14.84176794,  1.72085978, 14.60581396,  0.9857089 ,\n",
            "        1.86159005,  2.78378007,  1.10011922,  1.40825396, 12.43926811,\n",
            "        1.08894049,  1.84567513, 13.46103491,  0.19077229, 13.19940977,\n",
            "       14.18969435, 10.90223662, 12.55449343,  0.61103398,  0.49911861,\n",
            "       11.74873066,  1.15481518,  1.14668477, 11.93310416, 10.81335877,\n",
            "        1.73560785, 10.44503559, 12.84282395, 12.62590245,  1.585039  ])) [0. 1. 1. 1. 1. 0. 1. 1. 1. 1. 0. 0. 0. 0. 0. 1. 1. 0. 0. 0. 1. 1. 0. 0.\n",
            " 0. 1. 1. 1. 1. 1. 0. 0. 0. 0. 0. 0. 1. 1. 0. 1. 1. 1. 1. 1. 1. 0. 0. 0.\n",
            " 0. 0. 1. 0. 0. 1. 1. 0. 1. 1. 1. 1. 0. 1. 1. 0. 1. 0. 0. 0. 0. 0. 1. 1.\n",
            " 0. 1. 0. 0. 0. 0. 0. 1. 0. 0. 1. 0. 1. 1. 1. 1. 0. 0. 1. 0. 0. 1. 1. 0.\n",
            " 1. 1. 1. 0.] [[-4.70395221  1.61934976]\n",
            " [ 5.43434007  8.92343028]]\n"
          ],
          "name": "stdout"
        },
        {
          "output_type": "display_data",
          "data": {
            "image/png": "[encoded data removed]",
            "text/plain": [
              "<matplotlib.figure.Figure at 0x7f57987c1160>"
            ]
          },
          "metadata": {
            "tags": []
          }
        },
        {
          "output_type": "stream",
          "text": [
            "[[ 5.43434007  8.92343028]\n",
            " [-4.70395221  1.61934976]]\n",
            "(array([ 1.38248854, 13.07530463, 12.53167265, 11.82569432, 12.88044029,\n",
            "        0.49123945, 11.00079335, 11.75226077, 12.10935745, 10.09534857,\n",
            "        1.23520951,  0.61522608,  2.26273598,  0.57244408,  1.34111904,\n",
            "       13.2444151 , 12.19132692,  2.26919782,  0.42350553,  0.16375634,\n",
            "       11.73401708, 12.30645269,  1.590518  ,  1.46432202,  0.24909902,\n",
            "       12.33862001, 11.1281828 , 13.94884349, 13.1080773 , 13.37862653,\n",
            "        2.66599489,  1.63933375,  1.81570071,  0.69537661,  0.22343014,\n",
            "        1.03253513, 13.90064809, 13.17194385,  1.43591938, 12.10624797,\n",
            "       13.03804746, 12.9803136 , 11.52377593, 13.51292679, 10.96843526,\n",
            "        1.60353994,  1.64656019,  0.94361189,  0.71986367,  1.65297985,\n",
            "       12.31259926,  1.37421121,  0.83273642, 12.50256814, 12.73858713,\n",
            "        0.6307882 , 12.10638032, 11.56574867, 13.09227641, 13.06314343,\n",
            "        0.76448821, 12.71537406, 14.87576624,  1.14258044, 13.29445854,\n",
            "        1.15850161,  0.28505536,  1.77317425,  1.49481676,  0.58567154,\n",
            "       12.09965324, 14.84176794,  1.72085978, 14.60581396,  0.9857089 ,\n",
            "        1.86159005,  2.78378007,  1.10011922,  1.40825396, 12.43926811,\n",
            "        1.08894049,  1.84567513, 13.46103491,  0.19077229, 13.19940977,\n",
            "       14.18969435, 10.90223662, 12.55449343,  0.61103398,  0.49911861,\n",
            "       11.74873066,  1.15481518,  1.14668477, 11.93310416, 10.81335877,\n",
            "        1.73560785, 10.44503559, 12.84282395, 12.62590245,  1.585039  ]), array([13.84218886,  0.71618689,  0.18478225,  0.83017889,  1.9019004 ,\n",
            "       12.00643576,  1.5596179 ,  1.37993436,  1.1642476 ,  2.65082924,\n",
            "       11.26625269, 13.10512853, 12.15699982, 12.0929552 , 12.26137307,\n",
            "        1.13805802,  1.09167319, 11.66025527, 12.15144089, 12.59741625,\n",
            "        2.13307488,  0.7563681 , 13.30296522, 13.93543038, 12.64293422,\n",
            "        1.12384865,  1.36877792,  1.7300876 ,  1.43480874,  2.56591267,\n",
            "       14.94887824, 13.03227206, 10.79047862, 12.08540252, 12.37948905,\n",
            "       11.46536217,  1.90291737,  0.88370448, 12.11985859,  0.6901084 ,\n",
            "        0.86324304,  1.36074308,  1.52071451,  1.1648904 ,  1.57047476,\n",
            "       10.97249194, 11.96718984, 13.30698564, 13.1233814 , 12.74178171,\n",
            "        0.19652425, 11.29804522, 11.69695694,  0.68349928,  0.25002125,\n",
            "       12.86217973,  0.87006504,  1.43668256,  0.74260394,  1.2955614 ,\n",
            "       12.65746515,  1.44695369,  2.42490526, 11.86706933,  1.18595866,\n",
            "       11.74913654, 12.55964941, 14.26388774, 11.79861872, 12.63032985,\n",
            "        0.43339854,  2.35595385, 12.64630375,  2.11184296, 11.71757458,\n",
            "       10.63635342, 13.53298964, 12.87334353, 11.10303482,  0.79632102,\n",
            "       13.38558384, 14.2734911 ,  2.01391403, 12.54677942,  0.73189805,\n",
            "        1.79746809,  1.72650839,  0.74535491, 13.10538822, 12.33312273,\n",
            "        2.49387285, 12.31372599, 13.22332179,  0.56722312,  2.33299002,\n",
            "       13.69643448,  2.09868758,  0.85129654,  0.19780945, 13.91429104])) [1. 0. 0. 0. 0. 1. 0. 0. 0. 0. 1. 1. 1. 1. 1. 0. 0. 1. 1. 1. 0. 0. 1. 1.\n",
            " 1. 0. 0. 0. 0. 0. 1. 1. 1. 1. 1. 1. 0. 0. 1. 0. 0. 0. 0. 0. 0. 1. 1. 1.\n",
            " 1. 1. 0. 1. 1. 0. 0. 1. 0. 0. 0. 0. 1. 0. 0. 1. 0. 1. 1. 1. 1. 1. 0. 0.\n",
            " 1. 0. 1. 1. 1. 1. 1. 0. 1. 1. 0. 1. 0. 0. 0. 0. 1. 1. 0. 1. 1. 0. 0. 1.\n",
            " 0. 0. 0. 1.] [[ 5.43434007  8.92343028]\n",
            " [-4.70395221  1.61934976]]\n"
          ],
          "name": "stdout"
        },
        {
          "output_type": "display_data",
          "data": {
            "image/png": "[encoded data removed]",
            "text/plain": [
              "<matplotlib.figure.Figure at 0x7f57987517b8>"
            ]
          },
          "metadata": {
            "tags": []
          }
        },
        {
          "output_type": "stream",
          "text": [
            "[[-4.70395221  1.61934976]\n",
            " [ 5.43434007  8.92343028]]\n",
            "(array([13.84218886,  0.71618689,  0.18478225,  0.83017889,  1.9019004 ,\n",
            "       12.00643576,  1.5596179 ,  1.37993436,  1.1642476 ,  2.65082924,\n",
            "       11.26625269, 13.10512853, 12.15699982, 12.0929552 , 12.26137307,\n",
            "        1.13805802,  1.09167319, 11.66025527, 12.15144089, 12.59741625,\n",
            "        2.13307488,  0.7563681 , 13.30296522, 13.93543038, 12.64293422,\n",
            "        1.12384865,  1.36877792,  1.7300876 ,  1.43480874,  2.56591267,\n",
            "       14.94887824, 13.03227206, 10.79047862, 12.08540252, 12.37948905,\n",
            "       11.46536217,  1.90291737,  0.88370448, 12.11985859,  0.6901084 ,\n",
            "        0.86324304,  1.36074308,  1.52071451,  1.1648904 ,  1.57047476,\n",
            "       10.97249194, 11.96718984, 13.30698564, 13.1233814 , 12.74178171,\n",
            "        0.19652425, 11.29804522, 11.69695694,  0.68349928,  0.25002125,\n",
            "       12.86217973,  0.87006504,  1.43668256,  0.74260394,  1.2955614 ,\n",
            "       12.65746515,  1.44695369,  2.42490526, 11.86706933,  1.18595866,\n",
            "       11.74913654, 12.55964941, 14.26388774, 11.79861872, 12.63032985,\n",
            "        0.43339854,  2.35595385, 12.64630375,  2.11184296, 11.71757458,\n",
            "       10.63635342, 13.53298964, 12.87334353, 11.10303482,  0.79632102,\n",
            "       13.38558384, 14.2734911 ,  2.01391403, 12.54677942,  0.73189805,\n",
            "        1.79746809,  1.72650839,  0.74535491, 13.10538822, 12.33312273,\n",
            "        2.49387285, 12.31372599, 13.22332179,  0.56722312,  2.33299002,\n",
            "       13.69643448,  2.09868758,  0.85129654,  0.19780945, 13.91429104]), array([ 1.38248854, 13.07530463, 12.53167265, 11.82569432, 12.88044029,\n",
            "        0.49123945, 11.00079335, 11.75226077, 12.10935745, 10.09534857,\n",
            "        1.23520951,  0.61522608,  2.26273598,  0.57244408,  1.34111904,\n",
            "       13.2444151 , 12.19132692,  2.26919782,  0.42350553,  0.16375634,\n",
            "       11.73401708, 12.30645269,  1.590518  ,  1.46432202,  0.24909902,\n",
            "       12.33862001, 11.1281828 , 13.94884349, 13.1080773 , 13.37862653,\n",
            "        2.66599489,  1.63933375,  1.81570071,  0.69537661,  0.22343014,\n",
            "        1.03253513, 13.90064809, 13.17194385,  1.43591938, 12.10624797,\n",
            "       13.03804746, 12.9803136 , 11.52377593, 13.51292679, 10.96843526,\n",
            "        1.60353994,  1.64656019,  0.94361189,  0.71986367,  1.65297985,\n",
            "       12.31259926,  1.37421121,  0.83273642, 12.50256814, 12.73858713,\n",
            "        0.6307882 , 12.10638032, 11.56574867, 13.09227641, 13.06314343,\n",
            "        0.76448821, 12.71537406, 14.87576624,  1.14258044, 13.29445854,\n",
            "        1.15850161,  0.28505536,  1.77317425,  1.49481676,  0.58567154,\n",
            "       12.09965324, 14.84176794,  1.72085978, 14.60581396,  0.9857089 ,\n",
            "        1.86159005,  2.78378007,  1.10011922,  1.40825396, 12.43926811,\n",
            "        1.08894049,  1.84567513, 13.46103491,  0.19077229, 13.19940977,\n",
            "       14.18969435, 10.90223662, 12.55449343,  0.61103398,  0.49911861,\n",
            "       11.74873066,  1.15481518,  1.14668477, 11.93310416, 10.81335877,\n",
            "        1.73560785, 10.44503559, 12.84282395, 12.62590245,  1.585039  ])) [0. 1. 1. 1. 1. 0. 1. 1. 1. 1. 0. 0. 0. 0. 0. 1. 1. 0. 0. 0. 1. 1. 0. 0.\n",
            " 0. 1. 1. 1. 1. 1. 0. 0. 0. 0. 0. 0. 1. 1. 0. 1. 1. 1. 1. 1. 1. 0. 0. 0.\n",
            " 0. 0. 1. 0. 0. 1. 1. 0. 1. 1. 1. 1. 0. 1. 1. 0. 1. 0. 0. 0. 0. 0. 1. 1.\n",
            " 0. 1. 0. 0. 0. 0. 0. 1. 0. 0. 1. 0. 1. 1. 1. 1. 0. 0. 1. 0. 0. 1. 1. 0.\n",
            " 1. 1. 1. 0.] [[-4.70395221  1.61934976]\n",
            " [ 5.43434007  8.92343028]]\n"
          ],
          "name": "stdout"
        },
        {
          "output_type": "display_data",
          "data": {
            "image/png": "[encoded data removed]",
            "text/plain": [
              "<matplotlib.figure.Figure at 0x7f579860ddd8>"
            ]
          },
          "metadata": {
            "tags": []
          }
        },
        {
          "output_type": "stream",
          "text": [
            "[[ 5.43434007  8.92343028]\n",
            " [-4.70395221  1.61934976]]\n",
            "(array([ 1.38248854, 13.07530463, 12.53167265, 11.82569432, 12.88044029,\n",
            "        0.49123945, 11.00079335, 11.75226077, 12.10935745, 10.09534857,\n",
            "        1.23520951,  0.61522608,  2.26273598,  0.57244408,  1.34111904,\n",
            "       13.2444151 , 12.19132692,  2.26919782,  0.42350553,  0.16375634,\n",
            "       11.73401708, 12.30645269,  1.590518  ,  1.46432202,  0.24909902,\n",
            "       12.33862001, 11.1281828 , 13.94884349, 13.1080773 , 13.37862653,\n",
            "        2.66599489,  1.63933375,  1.81570071,  0.69537661,  0.22343014,\n",
            "        1.03253513, 13.90064809, 13.17194385,  1.43591938, 12.10624797,\n",
            "       13.03804746, 12.9803136 , 11.52377593, 13.51292679, 10.96843526,\n",
            "        1.60353994,  1.64656019,  0.94361189,  0.71986367,  1.65297985,\n",
            "       12.31259926,  1.37421121,  0.83273642, 12.50256814, 12.73858713,\n",
            "        0.6307882 , 12.10638032, 11.56574867, 13.09227641, 13.06314343,\n",
            "        0.76448821, 12.71537406, 14.87576624,  1.14258044, 13.29445854,\n",
            "        1.15850161,  0.28505536,  1.77317425,  1.49481676,  0.58567154,\n",
            "       12.09965324, 14.84176794,  1.72085978, 14.60581396,  0.9857089 ,\n",
            "        1.86159005,  2.78378007,  1.10011922,  1.40825396, 12.43926811,\n",
            "        1.08894049,  1.84567513, 13.46103491,  0.19077229, 13.19940977,\n",
            "       14.18969435, 10.90223662, 12.55449343,  0.61103398,  0.49911861,\n",
            "       11.74873066,  1.15481518,  1.14668477, 11.93310416, 10.81335877,\n",
            "        1.73560785, 10.44503559, 12.84282395, 12.62590245,  1.585039  ]), array([13.84218886,  0.71618689,  0.18478225,  0.83017889,  1.9019004 ,\n",
            "       12.00643576,  1.5596179 ,  1.37993436,  1.1642476 ,  2.65082924,\n",
            "       11.26625269, 13.10512853, 12.15699982, 12.0929552 , 12.26137307,\n",
            "        1.13805802,  1.09167319, 11.66025527, 12.15144089, 12.59741625,\n",
            "        2.13307488,  0.7563681 , 13.30296522, 13.93543038, 12.64293422,\n",
            "        1.12384865,  1.36877792,  1.7300876 ,  1.43480874,  2.56591267,\n",
            "       14.94887824, 13.03227206, 10.79047862, 12.08540252, 12.37948905,\n",
            "       11.46536217,  1.90291737,  0.88370448, 12.11985859,  0.6901084 ,\n",
            "        0.86324304,  1.36074308,  1.52071451,  1.1648904 ,  1.57047476,\n",
            "       10.97249194, 11.96718984, 13.30698564, 13.1233814 , 12.74178171,\n",
            "        0.19652425, 11.29804522, 11.69695694,  0.68349928,  0.25002125,\n",
            "       12.86217973,  0.87006504,  1.43668256,  0.74260394,  1.2955614 ,\n",
            "       12.65746515,  1.44695369,  2.42490526, 11.86706933,  1.18595866,\n",
            "       11.74913654, 12.55964941, 14.26388774, 11.79861872, 12.63032985,\n",
            "        0.43339854,  2.35595385, 12.64630375,  2.11184296, 11.71757458,\n",
            "       10.63635342, 13.53298964, 12.87334353, 11.10303482,  0.79632102,\n",
            "       13.38558384, 14.2734911 ,  2.01391403, 12.54677942,  0.73189805,\n",
            "        1.79746809,  1.72650839,  0.74535491, 13.10538822, 12.33312273,\n",
            "        2.49387285, 12.31372599, 13.22332179,  0.56722312,  2.33299002,\n",
            "       13.69643448,  2.09868758,  0.85129654,  0.19780945, 13.91429104])) [1. 0. 0. 0. 0. 1. 0. 0. 0. 0. 1. 1. 1. 1. 1. 0. 0. 1. 1. 1. 0. 0. 1. 1.\n",
            " 1. 0. 0. 0. 0. 0. 1. 1. 1. 1. 1. 1. 0. 0. 1. 0. 0. 0. 0. 0. 0. 1. 1. 1.\n",
            " 1. 1. 0. 1. 1. 0. 0. 1. 0. 0. 0. 0. 1. 0. 0. 1. 0. 1. 1. 1. 1. 1. 0. 0.\n",
            " 1. 0. 1. 1. 1. 1. 1. 0. 1. 1. 0. 1. 0. 0. 0. 0. 1. 1. 0. 1. 1. 0. 0. 1.\n",
            " 0. 0. 0. 1.] [[ 5.43434007  8.92343028]\n",
            " [-4.70395221  1.61934976]]\n"
          ],
          "name": "stdout"
        },
        {
          "output_type": "display_data",
          "data": {
            "image/png": "[encoded data removed]",
            "text/plain": [
              "<matplotlib.figure.Figure at 0x7f57986a63c8>"
            ]
          },
          "metadata": {
            "tags": []
          }
        },
        {
          "output_type": "stream",
          "text": [
            "[[-4.70395221  1.61934976]\n",
            " [ 5.43434007  8.92343028]]\n",
            "(array([13.84218886,  0.71618689,  0.18478225,  0.83017889,  1.9019004 ,\n",
            "       12.00643576,  1.5596179 ,  1.37993436,  1.1642476 ,  2.65082924,\n",
            "       11.26625269, 13.10512853, 12.15699982, 12.0929552 , 12.26137307,\n",
            "        1.13805802,  1.09167319, 11.66025527, 12.15144089, 12.59741625,\n",
            "        2.13307488,  0.7563681 , 13.30296522, 13.93543038, 12.64293422,\n",
            "        1.12384865,  1.36877792,  1.7300876 ,  1.43480874,  2.56591267,\n",
            "       14.94887824, 13.03227206, 10.79047862, 12.08540252, 12.37948905,\n",
            "       11.46536217,  1.90291737,  0.88370448, 12.11985859,  0.6901084 ,\n",
            "        0.86324304,  1.36074308,  1.52071451,  1.1648904 ,  1.57047476,\n",
            "       10.97249194, 11.96718984, 13.30698564, 13.1233814 , 12.74178171,\n",
            "        0.19652425, 11.29804522, 11.69695694,  0.68349928,  0.25002125,\n",
            "       12.86217973,  0.87006504,  1.43668256,  0.74260394,  1.2955614 ,\n",
            "       12.65746515,  1.44695369,  2.42490526, 11.86706933,  1.18595866,\n",
            "       11.74913654, 12.55964941, 14.26388774, 11.79861872, 12.63032985,\n",
            "        0.43339854,  2.35595385, 12.64630375,  2.11184296, 11.71757458,\n",
            "       10.63635342, 13.53298964, 12.87334353, 11.10303482,  0.79632102,\n",
            "       13.38558384, 14.2734911 ,  2.01391403, 12.54677942,  0.73189805,\n",
            "        1.79746809,  1.72650839,  0.74535491, 13.10538822, 12.33312273,\n",
            "        2.49387285, 12.31372599, 13.22332179,  0.56722312,  2.33299002,\n",
            "       13.69643448,  2.09868758,  0.85129654,  0.19780945, 13.91429104]), array([ 1.38248854, 13.07530463, 12.53167265, 11.82569432, 12.88044029,\n",
            "        0.49123945, 11.00079335, 11.75226077, 12.10935745, 10.09534857,\n",
            "        1.23520951,  0.61522608,  2.26273598,  0.57244408,  1.34111904,\n",
            "       13.2444151 , 12.19132692,  2.26919782,  0.42350553,  0.16375634,\n",
            "       11.73401708, 12.30645269,  1.590518  ,  1.46432202,  0.24909902,\n",
            "       12.33862001, 11.1281828 , 13.94884349, 13.1080773 , 13.37862653,\n",
            "        2.66599489,  1.63933375,  1.81570071,  0.69537661,  0.22343014,\n",
            "        1.03253513, 13.90064809, 13.17194385,  1.43591938, 12.10624797,\n",
            "       13.03804746, 12.9803136 , 11.52377593, 13.51292679, 10.96843526,\n",
            "        1.60353994,  1.64656019,  0.94361189,  0.71986367,  1.65297985,\n",
            "       12.31259926,  1.37421121,  0.83273642, 12.50256814, 12.73858713,\n",
            "        0.6307882 , 12.10638032, 11.56574867, 13.09227641, 13.06314343,\n",
            "        0.76448821, 12.71537406, 14.87576624,  1.14258044, 13.29445854,\n",
            "        1.15850161,  0.28505536,  1.77317425,  1.49481676,  0.58567154,\n",
            "       12.09965324, 14.84176794,  1.72085978, 14.60581396,  0.9857089 ,\n",
            "        1.86159005,  2.78378007,  1.10011922,  1.40825396, 12.43926811,\n",
            "        1.08894049,  1.84567513, 13.46103491,  0.19077229, 13.19940977,\n",
            "       14.18969435, 10.90223662, 12.55449343,  0.61103398,  0.49911861,\n",
            "       11.74873066,  1.15481518,  1.14668477, 11.93310416, 10.81335877,\n",
            "        1.73560785, 10.44503559, 12.84282395, 12.62590245,  1.585039  ])) [0. 1. 1. 1. 1. 0. 1. 1. 1. 1. 0. 0. 0. 0. 0. 1. 1. 0. 0. 0. 1. 1. 0. 0.\n",
            " 0. 1. 1. 1. 1. 1. 0. 0. 0. 0. 0. 0. 1. 1. 0. 1. 1. 1. 1. 1. 1. 0. 0. 0.\n",
            " 0. 0. 1. 0. 0. 1. 1. 0. 1. 1. 1. 1. 0. 1. 1. 0. 1. 0. 0. 0. 0. 0. 1. 1.\n",
            " 0. 1. 0. 0. 0. 0. 0. 1. 0. 0. 1. 0. 1. 1. 1. 1. 0. 0. 1. 0. 0. 1. 1. 0.\n",
            " 1. 1. 1. 0.] [[-4.70395221  1.61934976]\n",
            " [ 5.43434007  8.92343028]]\n"
          ],
          "name": "stdout"
        },
        {
          "output_type": "display_data",
          "data": {
            "image/png": "[encoded data removed]",
            "text/plain": [
              "<matplotlib.figure.Figure at 0x7f579859d630>"
            ]
          },
          "metadata": {
            "tags": []
          }
        },
        {
          "output_type": "stream",
          "text": [
            "[[ 5.43434007  8.92343028]\n",
            " [-4.70395221  1.61934976]]\n",
            "(array([ 1.38248854, 13.07530463, 12.53167265, 11.82569432, 12.88044029,\n",
            "        0.49123945, 11.00079335, 11.75226077, 12.10935745, 10.09534857,\n",
            "        1.23520951,  0.61522608,  2.26273598,  0.57244408,  1.34111904,\n",
            "       13.2444151 , 12.19132692,  2.26919782,  0.42350553,  0.16375634,\n",
            "       11.73401708, 12.30645269,  1.590518  ,  1.46432202,  0.24909902,\n",
            "       12.33862001, 11.1281828 , 13.94884349, 13.1080773 , 13.37862653,\n",
            "        2.66599489,  1.63933375,  1.81570071,  0.69537661,  0.22343014,\n",
            "        1.03253513, 13.90064809, 13.17194385,  1.43591938, 12.10624797,\n",
            "       13.03804746, 12.9803136 , 11.52377593, 13.51292679, 10.96843526,\n",
            "        1.60353994,  1.64656019,  0.94361189,  0.71986367,  1.65297985,\n",
            "       12.31259926,  1.37421121,  0.83273642, 12.50256814, 12.73858713,\n",
            "        0.6307882 , 12.10638032, 11.56574867, 13.09227641, 13.06314343,\n",
            "        0.76448821, 12.71537406, 14.87576624,  1.14258044, 13.29445854,\n",
            "        1.15850161,  0.28505536,  1.77317425,  1.49481676,  0.58567154,\n",
            "       12.09965324, 14.84176794,  1.72085978, 14.60581396,  0.9857089 ,\n",
            "        1.86159005,  2.78378007,  1.10011922,  1.40825396, 12.43926811,\n",
            "        1.08894049,  1.84567513, 13.46103491,  0.19077229, 13.19940977,\n",
            "       14.18969435, 10.90223662, 12.55449343,  0.61103398,  0.49911861,\n",
            "       11.74873066,  1.15481518,  1.14668477, 11.93310416, 10.81335877,\n",
            "        1.73560785, 10.44503559, 12.84282395, 12.62590245,  1.585039  ]), array([13.84218886,  0.71618689,  0.18478225,  0.83017889,  1.9019004 ,\n",
            "       12.00643576,  1.5596179 ,  1.37993436,  1.1642476 ,  2.65082924,\n",
            "       11.26625269, 13.10512853, 12.15699982, 12.0929552 , 12.26137307,\n",
            "        1.13805802,  1.09167319, 11.66025527, 12.15144089, 12.59741625,\n",
            "        2.13307488,  0.7563681 , 13.30296522, 13.93543038, 12.64293422,\n",
            "        1.12384865,  1.36877792,  1.7300876 ,  1.43480874,  2.56591267,\n",
            "       14.94887824, 13.03227206, 10.79047862, 12.08540252, 12.37948905,\n",
            "       11.46536217,  1.90291737,  0.88370448, 12.11985859,  0.6901084 ,\n",
            "        0.86324304,  1.36074308,  1.52071451,  1.1648904 ,  1.57047476,\n",
            "       10.97249194, 11.96718984, 13.30698564, 13.1233814 , 12.74178171,\n",
            "        0.19652425, 11.29804522, 11.69695694,  0.68349928,  0.25002125,\n",
            "       12.86217973,  0.87006504,  1.43668256,  0.74260394,  1.2955614 ,\n",
            "       12.65746515,  1.44695369,  2.42490526, 11.86706933,  1.18595866,\n",
            "       11.74913654, 12.55964941, 14.26388774, 11.79861872, 12.63032985,\n",
            "        0.43339854,  2.35595385, 12.64630375,  2.11184296, 11.71757458,\n",
            "       10.63635342, 13.53298964, 12.87334353, 11.10303482,  0.79632102,\n",
            "       13.38558384, 14.2734911 ,  2.01391403, 12.54677942,  0.73189805,\n",
            "        1.79746809,  1.72650839,  0.74535491, 13.10538822, 12.33312273,\n",
            "        2.49387285, 12.31372599, 13.22332179,  0.56722312,  2.33299002,\n",
            "       13.69643448,  2.09868758,  0.85129654,  0.19780945, 13.91429104])) [1. 0. 0. 0. 0. 1. 0. 0. 0. 0. 1. 1. 1. 1. 1. 0. 0. 1. 1. 1. 0. 0. 1. 1.\n",
            " 1. 0. 0. 0. 0. 0. 1. 1. 1. 1. 1. 1. 0. 0. 1. 0. 0. 0. 0. 0. 0. 1. 1. 1.\n",
            " 1. 1. 0. 1. 1. 0. 0. 1. 0. 0. 0. 0. 1. 0. 0. 1. 0. 1. 1. 1. 1. 1. 0. 0.\n",
            " 1. 0. 1. 1. 1. 1. 1. 0. 1. 1. 0. 1. 0. 0. 0. 0. 1. 1. 0. 1. 1. 0. 0. 1.\n",
            " 0. 0. 0. 1.] [[ 5.43434007  8.92343028]\n",
            " [-4.70395221  1.61934976]]\n"
          ],
          "name": "stdout"
        },
        {
          "output_type": "display_data",
          "data": {
            "image/png": "[encoded data removed]",
            "text/plain": [
              "<matplotlib.figure.Figure at 0x7f5798582630>"
            ]
          },
          "metadata": {
            "tags": []
          }
        },
        {
          "output_type": "stream",
          "text": [
            "[[-4.70395221  1.61934976]\n",
            " [ 5.43434007  8.92343028]]\n",
            "(array([13.84218886,  0.71618689,  0.18478225,  0.83017889,  1.9019004 ,\n",
            "       12.00643576,  1.5596179 ,  1.37993436,  1.1642476 ,  2.65082924,\n",
            "       11.26625269, 13.10512853, 12.15699982, 12.0929552 , 12.26137307,\n",
            "        1.13805802,  1.09167319, 11.66025527, 12.15144089, 12.59741625,\n",
            "        2.13307488,  0.7563681 , 13.30296522, 13.93543038, 12.64293422,\n",
            "        1.12384865,  1.36877792,  1.7300876 ,  1.43480874,  2.56591267,\n",
            "       14.94887824, 13.03227206, 10.79047862, 12.08540252, 12.37948905,\n",
            "       11.46536217,  1.90291737,  0.88370448, 12.11985859,  0.6901084 ,\n",
            "        0.86324304,  1.36074308,  1.52071451,  1.1648904 ,  1.57047476,\n",
            "       10.97249194, 11.96718984, 13.30698564, 13.1233814 , 12.74178171,\n",
            "        0.19652425, 11.29804522, 11.69695694,  0.68349928,  0.25002125,\n",
            "       12.86217973,  0.87006504,  1.43668256,  0.74260394,  1.2955614 ,\n",
            "       12.65746515,  1.44695369,  2.42490526, 11.86706933,  1.18595866,\n",
            "       11.74913654, 12.55964941, 14.26388774, 11.79861872, 12.63032985,\n",
            "        0.43339854,  2.35595385, 12.64630375,  2.11184296, 11.71757458,\n",
            "       10.63635342, 13.53298964, 12.87334353, 11.10303482,  0.79632102,\n",
            "       13.38558384, 14.2734911 ,  2.01391403, 12.54677942,  0.73189805,\n",
            "        1.79746809,  1.72650839,  0.74535491, 13.10538822, 12.33312273,\n",
            "        2.49387285, 12.31372599, 13.22332179,  0.56722312,  2.33299002,\n",
            "       13.69643448,  2.09868758,  0.85129654,  0.19780945, 13.91429104]), array([ 1.38248854, 13.07530463, 12.53167265, 11.82569432, 12.88044029,\n",
            "        0.49123945, 11.00079335, 11.75226077, 12.10935745, 10.09534857,\n",
            "        1.23520951,  0.61522608,  2.26273598,  0.57244408,  1.34111904,\n",
            "       13.2444151 , 12.19132692,  2.26919782,  0.42350553,  0.16375634,\n",
            "       11.73401708, 12.30645269,  1.590518  ,  1.46432202,  0.24909902,\n",
            "       12.33862001, 11.1281828 , 13.94884349, 13.1080773 , 13.37862653,\n",
            "        2.66599489,  1.63933375,  1.81570071,  0.69537661,  0.22343014,\n",
            "        1.03253513, 13.90064809, 13.17194385,  1.43591938, 12.10624797,\n",
            "       13.03804746, 12.9803136 , 11.52377593, 13.51292679, 10.96843526,\n",
            "        1.60353994,  1.64656019,  0.94361189,  0.71986367,  1.65297985,\n",
            "       12.31259926,  1.37421121,  0.83273642, 12.50256814, 12.73858713,\n",
            "        0.6307882 , 12.10638032, 11.56574867, 13.09227641, 13.06314343,\n",
            "        0.76448821, 12.71537406, 14.87576624,  1.14258044, 13.29445854,\n",
            "        1.15850161,  0.28505536,  1.77317425,  1.49481676,  0.58567154,\n",
            "       12.09965324, 14.84176794,  1.72085978, 14.60581396,  0.9857089 ,\n",
            "        1.86159005,  2.78378007,  1.10011922,  1.40825396, 12.43926811,\n",
            "        1.08894049,  1.84567513, 13.46103491,  0.19077229, 13.19940977,\n",
            "       14.18969435, 10.90223662, 12.55449343,  0.61103398,  0.49911861,\n",
            "       11.74873066,  1.15481518,  1.14668477, 11.93310416, 10.81335877,\n",
            "        1.73560785, 10.44503559, 12.84282395, 12.62590245,  1.585039  ])) [0. 1. 1. 1. 1. 0. 1. 1. 1. 1. 0. 0. 0. 0. 0. 1. 1. 0. 0. 0. 1. 1. 0. 0.\n",
            " 0. 1. 1. 1. 1. 1. 0. 0. 0. 0. 0. 0. 1. 1. 0. 1. 1. 1. 1. 1. 1. 0. 0. 0.\n",
            " 0. 0. 1. 0. 0. 1. 1. 0. 1. 1. 1. 1. 0. 1. 1. 0. 1. 0. 0. 0. 0. 0. 1. 1.\n",
            " 0. 1. 0. 0. 0. 0. 0. 1. 0. 0. 1. 0. 1. 1. 1. 1. 0. 0. 1. 0. 0. 1. 1. 0.\n",
            " 1. 1. 1. 0.] [[-4.70395221  1.61934976]\n",
            " [ 5.43434007  8.92343028]]\n"
          ],
          "name": "stdout"
        },
        {
          "output_type": "display_data",
          "data": {
            "image/png": "[encoded data removed]",
            "text/plain": [
              "<matplotlib.figure.Figure at 0x7f57984e9630>"
            ]
          },
          "metadata": {
            "tags": []
          }
        }
      ]
    },
    {
      "metadata": {
        "id": "CHv55ECB2FzL",
        "colab_type": "code",
        "colab": {
          "base_uri": "https://localhost:8080/",
          "height": 54
        },
        "outputId": "d6cc56ed-92cb-4d65-fa39-f13f53aaf251"
      },
      "cell_type": "code",
      "source": [
        "c12"
      ],
      "execution_count": 17,
      "outputs": [
        {
          "output_type": "execute_result",
          "data": {
            "text/plain": [
              "array([[-4.70395221,  1.61934976],\n",
              "       [ 5.43434007,  8.92343028]])"
            ]
          },
          "metadata": {
            "tags": []
          },
          "execution_count": 17
        }
      ]
    },
    {
      "metadata": {
        "id": "9A5iRWxPwtsr",
        "colab_type": "code",
        "outputId": "07b2a13a-4f3c-474c-d45c-7318b95953af",
        "colab": {
          "base_uri": "https://localhost:8080/",
          "height": 35
        }
      },
      "cell_type": "code",
      "source": [
        "print(np.mean(c12,axis=0))"
      ],
      "execution_count": 18,
      "outputs": [
        {
          "output_type": "stream",
          "text": [
            "[0.36519393 5.27139002]\n"
          ],
          "name": "stdout"
        }
      ]
    },
    {
      "metadata": {
        "id": "UhOxPELtwTJy",
        "colab_type": "text"
      },
      "cell_type": "markdown",
      "source": [
        "\\begin{equation}\n",
        "ax+by=c\\\\\n",
        "by = -ax+c\\\\\n",
        "y = 1/b*(-ax+c)\n",
        "\\end{equation}"
      ]
    },
    {
      "metadata": {
        "id": "mlKNG1nTGNxp",
        "colab_type": "code",
        "colab": {
          "base_uri": "https://localhost:8080/",
          "height": 54
        },
        "outputId": "63589bec-821a-42e8-ce9b-4d73c334ef1e"
      },
      "cell_type": "code",
      "source": [
        "p1, p2 = c12\n",
        "print(p1)\n",
        "print(p2)"
      ],
      "execution_count": 19,
      "outputs": [
        {
          "output_type": "stream",
          "text": [
            "[-4.70395221  1.61934976]\n",
            "[5.43434007 8.92343028]\n"
          ],
          "name": "stdout"
        }
      ]
    },
    {
      "metadata": {
        "id": "7yhZ9icKHEZI",
        "colab_type": "code",
        "colab": {}
      },
      "cell_type": "code",
      "source": [
        ""
      ],
      "execution_count": 0,
      "outputs": []
    },
    {
      "metadata": {
        "id": "LrfCTGPNF4Sr",
        "colab_type": "code",
        "colab": {}
      },
      "cell_type": "code",
      "source": [
        "def find_slope(p1, p2):\n",
        "    x1, y1 = p1\n",
        "    x2, y2 = p2\n",
        "#     print(y2, y1)\n",
        "#     print(x2, x1)\n",
        "    m = (y2-y1)/(x2-x1)\n",
        "    return m"
      ],
      "execution_count": 0,
      "outputs": []
    },
    {
      "metadata": {
        "id": "um_TASR2IVOk",
        "colab_type": "code",
        "colab": {}
      },
      "cell_type": "code",
      "source": [
        "def perpendicular_slope(m1):\n",
        "    return -(1/m1)"
      ],
      "execution_count": 0,
      "outputs": []
    },
    {
      "metadata": {
        "id": "OvVqx21qx-20",
        "colab_type": "code",
        "colab": {}
      },
      "cell_type": "code",
      "source": [
        "# needed to find the line passing throgh the points\n",
        "# needed to find the perpendicular line passing through a point\n",
        "\n",
        "def get_c(slope, point):\n",
        "    c = point[1] - slope*point[0]\n",
        "    return c\n",
        "    "
      ],
      "execution_count": 0,
      "outputs": []
    },
    {
      "metadata": {
        "id": "GGzx2-OUHYXP",
        "colab_type": "code",
        "colab": {}
      },
      "cell_type": "code",
      "source": [
        "def line_passing_through(point, slope):\n",
        "    return get_c(slope, point)"
      ],
      "execution_count": 0,
      "outputs": []
    },
    {
      "metadata": {
        "id": "CrCQNCKdxaBN",
        "colab_type": "code",
        "colab": {
          "base_uri": "https://localhost:8080/",
          "height": 667
        },
        "outputId": "9a75aa52-9689-4671-c55f-fd97254fe64c"
      },
      "cell_type": "code",
      "source": [
        "plt.gcf().clear()\n",
        "m = find_slope(c12[0], c12[1])\n",
        "\n",
        "c = line_passing_through(c12[0], m)\n",
        "c = line_passing_through(c12[1], m)\n",
        "\n",
        "x = np.linspace(min_v, max_v, 100, dtype='float')\n",
        "y = m*x+c\n",
        "plt.plot(x,y)\n",
        "plt.hold(True)\n",
        "\n",
        "\n",
        "m1 = m\n",
        "m2 = perpendicular_slope(m1)\n",
        "c1 = get_c(m2, c12[0])\n",
        "y = m2*x+c1\n",
        "plt.plot(x,y)\n",
        "plt.hold(True)\n",
        "\n",
        "c2 = get_c(m2, c12[1])\n",
        "y = m2*x+c2\n",
        "plt.plot(x,y)\n",
        "plt.hold(True)\n",
        "\n",
        "cm = get_c(m2, np.mean(c12, axis=0))\n",
        "y = m2*x+cm\n",
        "plt.plot(x,y)\n",
        "plt.hold(True)\n",
        "\n",
        "\n",
        "plot_kmeans(xy, c12)\n"
      ],
      "execution_count": 29,
      "outputs": [
        {
          "output_type": "stream",
          "text": [
            "/usr/local/lib/python3.6/dist-packages/ipykernel_launcher.py:10: MatplotlibDeprecationWarning: pyplot.hold is deprecated.\n",
            "    Future behavior will be consistent with the long-time default:\n",
            "    plot commands add elements without first clearing the\n",
            "    Axes and/or Figure.\n",
            "  # Remove the CWD from sys.path while we load stuff.\n",
            "/usr/local/lib/python3.6/dist-packages/matplotlib/__init__.py:805: MatplotlibDeprecationWarning: axes.hold is deprecated. Please remove it from your matplotlibrc and/or style files.\n",
            "  mplDeprecation)\n",
            "/usr/local/lib/python3.6/dist-packages/matplotlib/rcsetup.py:155: MatplotlibDeprecationWarning: axes.hold is deprecated, will be removed in 3.0\n",
            "  mplDeprecation)\n",
            "/usr/local/lib/python3.6/dist-packages/ipykernel_launcher.py:18: MatplotlibDeprecationWarning: pyplot.hold is deprecated.\n",
            "    Future behavior will be consistent with the long-time default:\n",
            "    plot commands add elements without first clearing the\n",
            "    Axes and/or Figure.\n",
            "/usr/local/lib/python3.6/dist-packages/ipykernel_launcher.py:23: MatplotlibDeprecationWarning: pyplot.hold is deprecated.\n",
            "    Future behavior will be consistent with the long-time default:\n",
            "    plot commands add elements without first clearing the\n",
            "    Axes and/or Figure.\n",
            "/usr/local/lib/python3.6/dist-packages/ipykernel_launcher.py:28: MatplotlibDeprecationWarning: pyplot.hold is deprecated.\n",
            "    Future behavior will be consistent with the long-time default:\n",
            "    plot commands add elements without first clearing the\n",
            "    Axes and/or Figure.\n"
          ],
          "name": "stderr"
        },
        {
          "output_type": "display_data",
          "data": {
            "image/png": "[encoded data removed]",
            "text/plain": [
              "<matplotlib.figure.Figure at 0x7f5798295c50>"
            ]
          },
          "metadata": {
            "tags": []
          }
        }
      ]
    },
    {
      "metadata": {
        "id": "j2LK7XH8Ey37",
        "colab_type": "code",
        "colab": {}
      },
      "cell_type": "code",
      "source": [
        ""
      ],
      "execution_count": 0,
      "outputs": []
    }
  ]
}